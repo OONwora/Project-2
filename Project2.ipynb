{
 "cells": [
  {
   "cell_type": "code",
   "execution_count": 67,
   "id": "533e73a8-2725-43d6-86f1-c62a4c1e9492",
   "metadata": {},
   "outputs": [],
   "source": [
    "import numpy as np\n",
    "import pandas as pd\n",
    "import matplotlib.pyplot as plt\n",
    "import seaborn as sns\n",
    "from pandas.tseries.offsets import DateOffset\n",
    "from pathlib import Path\n",
    "import hvplot.pandas\n",
    "from sklearn.preprocessing import LabelEncoder, OneHotEncoder\n",
    "from sklearn.cluster import KMeans\n",
    "from sklearn.metrics import silhouette_score\n",
    "from sklearn import svm\n",
    "from sklearn.preprocessing import StandardScaler\n",
    "from sklearn.metrics import classification_report"
   ]
  },
  {
   "cell_type": "code",
   "execution_count": 68,
   "id": "1b06fb12-f898-484d-8f91-c3bd972514cc",
   "metadata": {
    "tags": []
   },
   "outputs": [
    {
     "name": "stdout",
     "output_type": "stream",
     "text": [
      "        id                                              name  host_id  \\\n",
      "0   329172               Hillside designer home,10 min.dwntn  1680871   \n",
      "1   329306            Urban Homestead, 5 minutes to downtown   880571   \n",
      "2   331549                    One Room with Private Bathroom  1690383   \n",
      "3   333815                     Solar Sanctuary - Austin Room   372962   \n",
      "4   333442                        Rare Secluded 1940s Estate  1698318   \n",
      "5   335885  4Bed/2Bath Sleeps 12+ w Pool, Sauna, Gym & Games  1707903   \n",
      "6   334616                 Great SXSW East Central Apartment   608539   \n",
      "7   337125                 1800 Sq ft, 3-2 home in NW Austin   261883   \n",
      "8   340045                       Greenbelt Professional Loft  1725752   \n",
      "9   335945   The Sheridan- A comfy and spacious Austin Oasis  1555683   \n",
      "10  340630               2 Bedroom duplex for monthly rental   531267   \n",
      "11  341596                         South Austin Ultra Modern  1733004   \n",
      "12  341382               SXSW | 4 bedroom home near Downtown  1205884   \n",
      "13  342243       Spacious Private Master Suite by the Month.  1736662   \n",
      "14  342039       Garden Guesthouse, central East Austin gem.  1735494   \n",
      "\n",
      "          host_name  neighbourhood_group  neighbourhood  latitude  longitude  \\\n",
      "0             Janet                  NaN          78746  30.30085  -97.80794   \n",
      "1             Angel                  NaN          78702  30.27232  -97.72579   \n",
      "2            Sandra                  NaN          78725  30.23911  -97.58625   \n",
      "3               Kim                  NaN          78704  30.25381  -97.75262   \n",
      "4          Virginia                  NaN          78703  30.31267  -97.76641   \n",
      "5           Stephen                  NaN          78749  30.20621  -97.85577   \n",
      "6                 D                  NaN          78741  30.24481  -97.72379   \n",
      "7           Carolyn                  NaN          78759  30.42035  -97.76685   \n",
      "8            Shanti                  NaN          78746  30.25937  -97.79249   \n",
      "9           Patrick                  NaN          78741  30.24026  -97.73338   \n",
      "10          Shelley                  NaN          78757  30.33061  -97.72531   \n",
      "11            Julie                  NaN          78704  30.24623  -97.75904   \n",
      "12  Luke And Rachel                  NaN          78702  30.26543  -97.71338   \n",
      "13           Teresa                  NaN          78759  30.41633  -97.75228   \n",
      "14   Steph And Joey                  NaN          78702  30.25158  -97.73147   \n",
      "\n",
      "          room_type  price  minimum_nights  number_of_reviews last_review  \\\n",
      "0   Entire home/apt    495               3                  7  2022-08-07   \n",
      "1      Private room     63               2                570  2022-11-30   \n",
      "2      Private room    100               2                  0         NaN   \n",
      "3      Private room    102               2                164  2022-10-24   \n",
      "4   Entire home/apt    286               3                163  2022-11-12   \n",
      "5   Entire home/apt    300              28                 43  2021-07-05   \n",
      "6   Entire home/apt    250               1                  2  2013-03-17   \n",
      "7      Private room     80              32                 33  2015-10-06   \n",
      "8   Entire home/apt    400               1                  1  2021-12-30   \n",
      "9   Entire home/apt    221               3                 34  2022-11-01   \n",
      "10  Entire home/apt     50              30                 23  2022-11-04   \n",
      "11     Private room    120               2                 90  2022-10-17   \n",
      "12  Entire home/apt    750               4                124  2019-03-17   \n",
      "13     Private room     45              31                  3  2020-02-13   \n",
      "14  Entire home/apt    116               1                342  2022-11-13   \n",
      "\n",
      "    reviews_per_month  calculated_host_listings_count  availability_365  \\\n",
      "0                0.05                               1               363   \n",
      "1                4.36                               5                55   \n",
      "2                 NaN                               1                 0   \n",
      "3                1.26                               1                36   \n",
      "4                1.32                               1               271   \n",
      "5                0.33                               1                90   \n",
      "6                0.02                               1                 0   \n",
      "7                0.25                               1                83   \n",
      "8                0.09                               1                 0   \n",
      "9                0.26                               1                27   \n",
      "10               0.18                               3                25   \n",
      "11               0.69                               1               122   \n",
      "12               0.95                               1                 0   \n",
      "13               0.06                               1               317   \n",
      "14               2.62                               2               120   \n",
      "\n",
      "    number_of_reviews_ltm  license  \n",
      "0                       1      NaN  \n",
      "1                      45      NaN  \n",
      "2                       0      NaN  \n",
      "3                      18      NaN  \n",
      "4                      15      NaN  \n",
      "5                       0      NaN  \n",
      "6                       0      NaN  \n",
      "7                       0      NaN  \n",
      "8                       1      NaN  \n",
      "9                       2      NaN  \n",
      "10                      3      NaN  \n",
      "11                     15      NaN  \n",
      "12                      0      NaN  \n",
      "13                      0      NaN  \n",
      "14                     30      NaN  \n"
     ]
    }
   ],
   "source": [
    "dataset = pd.read_csv(\"listings.csv\")\n",
    "dataset.head(15)\n",
    "df = dataset.head(15)\n",
    "print(df)"
   ]
  },
  {
   "cell_type": "code",
   "execution_count": 69,
   "id": "64caa4b2-52df-4149-a179-fa49c83a8f30",
   "metadata": {},
   "outputs": [],
   "source": [
    "## Based on this chart, it can be seen that 9 out of the 15 booked rooms are Entire homes/Apts. This can conclude that Private rooms are less lkely to get booked. "
   ]
  },
  {
   "cell_type": "code",
   "execution_count": 70,
   "id": "7963e964-4a60-4456-b429-2edcda1ca5c7",
   "metadata": {},
   "outputs": [
    {
     "name": "stdout",
     "output_type": "stream",
     "text": [
      "        id                                              name  host_id  \\\n",
      "13  342243       Spacious Private Master Suite by the Month.  1736662   \n",
      "10  340630               2 Bedroom duplex for monthly rental   531267   \n",
      "1   329306            Urban Homestead, 5 minutes to downtown   880571   \n",
      "7   337125                 1800 Sq ft, 3-2 home in NW Austin   261883   \n",
      "2   331549                    One Room with Private Bathroom  1690383   \n",
      "3   333815                     Solar Sanctuary - Austin Room   372962   \n",
      "14  342039       Garden Guesthouse, central East Austin gem.  1735494   \n",
      "11  341596                         South Austin Ultra Modern  1733004   \n",
      "9   335945   The Sheridan- A comfy and spacious Austin Oasis  1555683   \n",
      "6   334616                 Great SXSW East Central Apartment   608539   \n",
      "4   333442                        Rare Secluded 1940s Estate  1698318   \n",
      "5   335885  4Bed/2Bath Sleeps 12+ w Pool, Sauna, Gym & Games  1707903   \n",
      "8   340045                       Greenbelt Professional Loft  1725752   \n",
      "0   329172               Hillside designer home,10 min.dwntn  1680871   \n",
      "12  341382               SXSW | 4 bedroom home near Downtown  1205884   \n",
      "\n",
      "          host_name  neighbourhood_group  neighbourhood  latitude  longitude  \\\n",
      "13           Teresa                  NaN          78759  30.41633  -97.75228   \n",
      "10          Shelley                  NaN          78757  30.33061  -97.72531   \n",
      "1             Angel                  NaN          78702  30.27232  -97.72579   \n",
      "7           Carolyn                  NaN          78759  30.42035  -97.76685   \n",
      "2            Sandra                  NaN          78725  30.23911  -97.58625   \n",
      "3               Kim                  NaN          78704  30.25381  -97.75262   \n",
      "14   Steph And Joey                  NaN          78702  30.25158  -97.73147   \n",
      "11            Julie                  NaN          78704  30.24623  -97.75904   \n",
      "9           Patrick                  NaN          78741  30.24026  -97.73338   \n",
      "6                 D                  NaN          78741  30.24481  -97.72379   \n",
      "4          Virginia                  NaN          78703  30.31267  -97.76641   \n",
      "5           Stephen                  NaN          78749  30.20621  -97.85577   \n",
      "8            Shanti                  NaN          78746  30.25937  -97.79249   \n",
      "0             Janet                  NaN          78746  30.30085  -97.80794   \n",
      "12  Luke And Rachel                  NaN          78702  30.26543  -97.71338   \n",
      "\n",
      "          room_type  price  minimum_nights  number_of_reviews last_review  \\\n",
      "13     Private room     45              31                  3  2020-02-13   \n",
      "10  Entire home/apt     50              30                 23  2022-11-04   \n",
      "1      Private room     63               2                570  2022-11-30   \n",
      "7      Private room     80              32                 33  2015-10-06   \n",
      "2      Private room    100               2                  0         NaN   \n",
      "3      Private room    102               2                164  2022-10-24   \n",
      "14  Entire home/apt    116               1                342  2022-11-13   \n",
      "11     Private room    120               2                 90  2022-10-17   \n",
      "9   Entire home/apt    221               3                 34  2022-11-01   \n",
      "6   Entire home/apt    250               1                  2  2013-03-17   \n",
      "4   Entire home/apt    286               3                163  2022-11-12   \n",
      "5   Entire home/apt    300              28                 43  2021-07-05   \n",
      "8   Entire home/apt    400               1                  1  2021-12-30   \n",
      "0   Entire home/apt    495               3                  7  2022-08-07   \n",
      "12  Entire home/apt    750               4                124  2019-03-17   \n",
      "\n",
      "    reviews_per_month  calculated_host_listings_count  availability_365  \\\n",
      "13               0.06                               1               317   \n",
      "10               0.18                               3                25   \n",
      "1                4.36                               5                55   \n",
      "7                0.25                               1                83   \n",
      "2                 NaN                               1                 0   \n",
      "3                1.26                               1                36   \n",
      "14               2.62                               2               120   \n",
      "11               0.69                               1               122   \n",
      "9                0.26                               1                27   \n",
      "6                0.02                               1                 0   \n",
      "4                1.32                               1               271   \n",
      "5                0.33                               1                90   \n",
      "8                0.09                               1                 0   \n",
      "0                0.05                               1               363   \n",
      "12               0.95                               1                 0   \n",
      "\n",
      "    number_of_reviews_ltm  license  \n",
      "13                      0      NaN  \n",
      "10                      3      NaN  \n",
      "1                      45      NaN  \n",
      "7                       0      NaN  \n",
      "2                       0      NaN  \n",
      "3                      18      NaN  \n",
      "14                     30      NaN  \n",
      "11                     15      NaN  \n",
      "9                       2      NaN  \n",
      "6                       0      NaN  \n",
      "4                      15      NaN  \n",
      "5                       0      NaN  \n",
      "8                       1      NaN  \n",
      "0                       1      NaN  \n",
      "12                      0      NaN  \n"
     ]
    }
   ],
   "source": [
    "sorted_data = df.sort_values(by='price', ascending=True)\n",
    "print(sorted_data.head(15))"
   ]
  },
  {
   "cell_type": "code",
   "execution_count": 71,
   "id": "e112ef9c-8b33-41c9-82df-4a931ef4ab07",
   "metadata": {},
   "outputs": [],
   "source": [
    "# The price for a private room ranges significantly less compared to that of an entire home/apt which is expected."
   ]
  },
  {
   "cell_type": "code",
   "execution_count": 72,
   "id": "ec8ad770-10f9-4e79-b67f-6de501203fad",
   "metadata": {},
   "outputs": [
    {
     "data": {
      "image/png": "[encoded data removed]",
      "text/plain": [
       "<Figure size 640x480 with 1 Axes>"
      ]
     },
     "metadata": {},
     "output_type": "display_data"
    }
   ],
   "source": [
    "sorted_df = pd.DataFrame(sorted_data)\n",
    "\n",
    "# Select the columns you want to plot\n",
    "x = sorted_df['room_type']\n",
    "y = sorted_df['price']\n",
    "\n",
    "# Create a line plot\n",
    "plt.bar(x, y)\n",
    "plt.xlabel('Room Type')\n",
    "plt.ylabel('Price')\n",
    "plt.title('Rooms by Price')\n",
    "plt.show()"
   ]
  },
  {
   "cell_type": "code",
   "execution_count": 65,
   "id": "2632942b-8e8b-4f36-a1bc-76a4651f5eed",
   "metadata": {},
   "outputs": [
    {
     "data": {
      "text/html": [
       "<div>\n",
       "<style scoped>\n",
       "    .dataframe tbody tr th:only-of-type {\n",
       "        vertical-align: middle;\n",
       "    }\n",
       "\n",
       "    .dataframe tbody tr th {\n",
       "        vertical-align: top;\n",
       "    }\n",
       "\n",
       "    .dataframe thead th {\n",
       "        text-align: right;\n",
       "    }\n",
       "</style>\n",
       "<table border=\"1\" class=\"dataframe\">\n",
       "  <thead>\n",
       "    <tr style=\"text-align: right;\">\n",
       "      <th></th>\n",
       "      <th>id</th>\n",
       "      <th>name</th>\n",
       "      <th>host_id</th>\n",
       "      <th>host_name</th>\n",
       "      <th>neighbourhood_group</th>\n",
       "      <th>neighbourhood</th>\n",
       "      <th>latitude</th>\n",
       "      <th>longitude</th>\n",
       "      <th>room_type</th>\n",
       "      <th>price</th>\n",
       "      <th>minimum_nights</th>\n",
       "      <th>number_of_reviews</th>\n",
       "      <th>last_review</th>\n",
       "      <th>reviews_per_month</th>\n",
       "      <th>calculated_host_listings_count</th>\n",
       "      <th>availability_365</th>\n",
       "      <th>number_of_reviews_ltm</th>\n",
       "      <th>license</th>\n",
       "    </tr>\n",
       "  </thead>\n",
       "  <tbody>\n",
       "  </tbody>\n",
       "</table>\n",
       "</div>"
      ],
      "text/plain": [
       "Empty DataFrame\n",
       "Columns: [id, name, host_id, host_name, neighbourhood_group, neighbourhood, latitude, longitude, room_type, price, minimum_nights, number_of_reviews, last_review, reviews_per_month, calculated_host_listings_count, availability_365, number_of_reviews_ltm, license]\n",
       "Index: []"
      ]
     },
     "metadata": {},
     "output_type": "display_data"
    }
   ],
   "source": [
    "\n",
    "low_price = 40\n",
    "high_price = 800\n",
    "\n",
    "# Generate the fast and slow simple moving averages (4 and 100 days, respectively)\n",
    "sorted_data['room_type'] = sorted_data['price'].rolling(window=low_price).mean()\n",
    "sorted_data['minimum_nights'] = sorted_data['price'].rolling(window=high_price).mean()\n",
    "\n",
    "sorted_data = sorted_data.dropna()\n",
    "\n",
    "# Review the DataFrame\n",
    "display(sorted_data.head())\n"
   ]
  },
  {
   "cell_type": "code",
   "execution_count": 47,
   "id": "7ddece17-e4e1-45ca-987f-e34a4737c221",
   "metadata": {},
   "outputs": [
    {
     "ename": "ValueError",
     "evalue": "could not convert string to float: 'Spacious Private Master Suite by the Month.'",
     "output_type": "error",
     "traceback": [
      "\u001b[1;31m---------------------------------------------------------------------------\u001b[0m",
      "\u001b[1;31mValueError\u001b[0m                                Traceback (most recent call last)",
      "Cell \u001b[1;32mIn[47], line 9\u001b[0m\n\u001b[0;32m      7\u001b[0m \u001b[38;5;66;03m# Perform K-means clustering\u001b[39;00m\n\u001b[0;32m      8\u001b[0m kmeans \u001b[38;5;241m=\u001b[39m KMeans(n_clusters\u001b[38;5;241m=\u001b[39mnum_clusters)\n\u001b[1;32m----> 9\u001b[0m cluster_labels \u001b[38;5;241m=\u001b[39m \u001b[43mkmeans\u001b[49m\u001b[38;5;241;43m.\u001b[39;49m\u001b[43mfit_predict\u001b[49m\u001b[43m(\u001b[49m\u001b[43msorted_array\u001b[49m\u001b[43m)\u001b[49m\n\u001b[0;32m     11\u001b[0m \u001b[38;5;66;03m# Get the cluster centers and labels\u001b[39;00m\n\u001b[0;32m     12\u001b[0m cluster_centers \u001b[38;5;241m=\u001b[39m kmeans\u001b[38;5;241m.\u001b[39mcluster_centers_\n",
      "File \u001b[1;32m~\\anaconda3\\lib\\site-packages\\sklearn\\cluster\\_kmeans.py:1033\u001b[0m, in \u001b[0;36m_BaseKMeans.fit_predict\u001b[1;34m(self, X, y, sample_weight)\u001b[0m\n\u001b[0;32m   1010\u001b[0m \u001b[38;5;28;01mdef\u001b[39;00m \u001b[38;5;21mfit_predict\u001b[39m(\u001b[38;5;28mself\u001b[39m, X, y\u001b[38;5;241m=\u001b[39m\u001b[38;5;28;01mNone\u001b[39;00m, sample_weight\u001b[38;5;241m=\u001b[39m\u001b[38;5;28;01mNone\u001b[39;00m):\n\u001b[0;32m   1011\u001b[0m \u001b[38;5;250m    \u001b[39m\u001b[38;5;124;03m\"\"\"Compute cluster centers and predict cluster index for each sample.\u001b[39;00m\n\u001b[0;32m   1012\u001b[0m \n\u001b[0;32m   1013\u001b[0m \u001b[38;5;124;03m    Convenience method; equivalent to calling fit(X) followed by\u001b[39;00m\n\u001b[1;32m   (...)\u001b[0m\n\u001b[0;32m   1031\u001b[0m \u001b[38;5;124;03m        Index of the cluster each sample belongs to.\u001b[39;00m\n\u001b[0;32m   1032\u001b[0m \u001b[38;5;124;03m    \"\"\"\u001b[39;00m\n\u001b[1;32m-> 1033\u001b[0m     \u001b[38;5;28;01mreturn\u001b[39;00m \u001b[38;5;28;43mself\u001b[39;49m\u001b[38;5;241;43m.\u001b[39;49m\u001b[43mfit\u001b[49m\u001b[43m(\u001b[49m\u001b[43mX\u001b[49m\u001b[43m,\u001b[49m\u001b[43m \u001b[49m\u001b[43msample_weight\u001b[49m\u001b[38;5;241;43m=\u001b[39;49m\u001b[43msample_weight\u001b[49m\u001b[43m)\u001b[49m\u001b[38;5;241m.\u001b[39mlabels_\n",
      "File \u001b[1;32m~\\anaconda3\\lib\\site-packages\\sklearn\\cluster\\_kmeans.py:1417\u001b[0m, in \u001b[0;36mKMeans.fit\u001b[1;34m(self, X, y, sample_weight)\u001b[0m\n\u001b[0;32m   1390\u001b[0m \u001b[38;5;250m\u001b[39m\u001b[38;5;124;03m\"\"\"Compute k-means clustering.\u001b[39;00m\n\u001b[0;32m   1391\u001b[0m \n\u001b[0;32m   1392\u001b[0m \u001b[38;5;124;03mParameters\u001b[39;00m\n\u001b[1;32m   (...)\u001b[0m\n\u001b[0;32m   1413\u001b[0m \u001b[38;5;124;03m    Fitted estimator.\u001b[39;00m\n\u001b[0;32m   1414\u001b[0m \u001b[38;5;124;03m\"\"\"\u001b[39;00m\n\u001b[0;32m   1415\u001b[0m \u001b[38;5;28mself\u001b[39m\u001b[38;5;241m.\u001b[39m_validate_params()\n\u001b[1;32m-> 1417\u001b[0m X \u001b[38;5;241m=\u001b[39m \u001b[38;5;28;43mself\u001b[39;49m\u001b[38;5;241;43m.\u001b[39;49m\u001b[43m_validate_data\u001b[49m\u001b[43m(\u001b[49m\n\u001b[0;32m   1418\u001b[0m \u001b[43m    \u001b[49m\u001b[43mX\u001b[49m\u001b[43m,\u001b[49m\n\u001b[0;32m   1419\u001b[0m \u001b[43m    \u001b[49m\u001b[43maccept_sparse\u001b[49m\u001b[38;5;241;43m=\u001b[39;49m\u001b[38;5;124;43m\"\u001b[39;49m\u001b[38;5;124;43mcsr\u001b[39;49m\u001b[38;5;124;43m\"\u001b[39;49m\u001b[43m,\u001b[49m\n\u001b[0;32m   1420\u001b[0m \u001b[43m    \u001b[49m\u001b[43mdtype\u001b[49m\u001b[38;5;241;43m=\u001b[39;49m\u001b[43m[\u001b[49m\u001b[43mnp\u001b[49m\u001b[38;5;241;43m.\u001b[39;49m\u001b[43mfloat64\u001b[49m\u001b[43m,\u001b[49m\u001b[43m \u001b[49m\u001b[43mnp\u001b[49m\u001b[38;5;241;43m.\u001b[39;49m\u001b[43mfloat32\u001b[49m\u001b[43m]\u001b[49m\u001b[43m,\u001b[49m\n\u001b[0;32m   1421\u001b[0m \u001b[43m    \u001b[49m\u001b[43morder\u001b[49m\u001b[38;5;241;43m=\u001b[39;49m\u001b[38;5;124;43m\"\u001b[39;49m\u001b[38;5;124;43mC\u001b[39;49m\u001b[38;5;124;43m\"\u001b[39;49m\u001b[43m,\u001b[49m\n\u001b[0;32m   1422\u001b[0m \u001b[43m    \u001b[49m\u001b[43mcopy\u001b[49m\u001b[38;5;241;43m=\u001b[39;49m\u001b[38;5;28;43mself\u001b[39;49m\u001b[38;5;241;43m.\u001b[39;49m\u001b[43mcopy_x\u001b[49m\u001b[43m,\u001b[49m\n\u001b[0;32m   1423\u001b[0m \u001b[43m    \u001b[49m\u001b[43maccept_large_sparse\u001b[49m\u001b[38;5;241;43m=\u001b[39;49m\u001b[38;5;28;43;01mFalse\u001b[39;49;00m\u001b[43m,\u001b[49m\n\u001b[0;32m   1424\u001b[0m \u001b[43m\u001b[49m\u001b[43m)\u001b[49m\n\u001b[0;32m   1426\u001b[0m \u001b[38;5;28mself\u001b[39m\u001b[38;5;241m.\u001b[39m_check_params_vs_input(X)\n\u001b[0;32m   1428\u001b[0m random_state \u001b[38;5;241m=\u001b[39m check_random_state(\u001b[38;5;28mself\u001b[39m\u001b[38;5;241m.\u001b[39mrandom_state)\n",
      "File \u001b[1;32m~\\anaconda3\\lib\\site-packages\\sklearn\\base.py:546\u001b[0m, in \u001b[0;36mBaseEstimator._validate_data\u001b[1;34m(self, X, y, reset, validate_separately, **check_params)\u001b[0m\n\u001b[0;32m    544\u001b[0m     \u001b[38;5;28;01mraise\u001b[39;00m \u001b[38;5;167;01mValueError\u001b[39;00m(\u001b[38;5;124m\"\u001b[39m\u001b[38;5;124mValidation should be done on X, y or both.\u001b[39m\u001b[38;5;124m\"\u001b[39m)\n\u001b[0;32m    545\u001b[0m \u001b[38;5;28;01melif\u001b[39;00m \u001b[38;5;129;01mnot\u001b[39;00m no_val_X \u001b[38;5;129;01mand\u001b[39;00m no_val_y:\n\u001b[1;32m--> 546\u001b[0m     X \u001b[38;5;241m=\u001b[39m check_array(X, input_name\u001b[38;5;241m=\u001b[39m\u001b[38;5;124m\"\u001b[39m\u001b[38;5;124mX\u001b[39m\u001b[38;5;124m\"\u001b[39m, \u001b[38;5;241m*\u001b[39m\u001b[38;5;241m*\u001b[39mcheck_params)\n\u001b[0;32m    547\u001b[0m     out \u001b[38;5;241m=\u001b[39m X\n\u001b[0;32m    548\u001b[0m \u001b[38;5;28;01melif\u001b[39;00m no_val_X \u001b[38;5;129;01mand\u001b[39;00m \u001b[38;5;129;01mnot\u001b[39;00m no_val_y:\n",
      "File \u001b[1;32m~\\anaconda3\\lib\\site-packages\\sklearn\\utils\\validation.py:879\u001b[0m, in \u001b[0;36mcheck_array\u001b[1;34m(array, accept_sparse, accept_large_sparse, dtype, order, copy, force_all_finite, ensure_2d, allow_nd, ensure_min_samples, ensure_min_features, estimator, input_name)\u001b[0m\n\u001b[0;32m    877\u001b[0m         array \u001b[38;5;241m=\u001b[39m xp\u001b[38;5;241m.\u001b[39mastype(array, dtype, copy\u001b[38;5;241m=\u001b[39m\u001b[38;5;28;01mFalse\u001b[39;00m)\n\u001b[0;32m    878\u001b[0m     \u001b[38;5;28;01melse\u001b[39;00m:\n\u001b[1;32m--> 879\u001b[0m         array \u001b[38;5;241m=\u001b[39m \u001b[43m_asarray_with_order\u001b[49m\u001b[43m(\u001b[49m\u001b[43marray\u001b[49m\u001b[43m,\u001b[49m\u001b[43m \u001b[49m\u001b[43morder\u001b[49m\u001b[38;5;241;43m=\u001b[39;49m\u001b[43morder\u001b[49m\u001b[43m,\u001b[49m\u001b[43m \u001b[49m\u001b[43mdtype\u001b[49m\u001b[38;5;241;43m=\u001b[39;49m\u001b[43mdtype\u001b[49m\u001b[43m,\u001b[49m\u001b[43m \u001b[49m\u001b[43mxp\u001b[49m\u001b[38;5;241;43m=\u001b[39;49m\u001b[43mxp\u001b[49m\u001b[43m)\u001b[49m\n\u001b[0;32m    880\u001b[0m \u001b[38;5;28;01mexcept\u001b[39;00m ComplexWarning \u001b[38;5;28;01mas\u001b[39;00m complex_warning:\n\u001b[0;32m    881\u001b[0m     \u001b[38;5;28;01mraise\u001b[39;00m \u001b[38;5;167;01mValueError\u001b[39;00m(\n\u001b[0;32m    882\u001b[0m         \u001b[38;5;124m\"\u001b[39m\u001b[38;5;124mComplex data not supported\u001b[39m\u001b[38;5;130;01m\\n\u001b[39;00m\u001b[38;5;132;01m{}\u001b[39;00m\u001b[38;5;130;01m\\n\u001b[39;00m\u001b[38;5;124m\"\u001b[39m\u001b[38;5;241m.\u001b[39mformat(array)\n\u001b[0;32m    883\u001b[0m     ) \u001b[38;5;28;01mfrom\u001b[39;00m \u001b[38;5;21;01mcomplex_warning\u001b[39;00m\n",
      "File \u001b[1;32m~\\anaconda3\\lib\\site-packages\\sklearn\\utils\\_array_api.py:185\u001b[0m, in \u001b[0;36m_asarray_with_order\u001b[1;34m(array, dtype, order, copy, xp)\u001b[0m\n\u001b[0;32m    182\u001b[0m     xp, _ \u001b[38;5;241m=\u001b[39m get_namespace(array)\n\u001b[0;32m    183\u001b[0m \u001b[38;5;28;01mif\u001b[39;00m xp\u001b[38;5;241m.\u001b[39m\u001b[38;5;18m__name__\u001b[39m \u001b[38;5;129;01min\u001b[39;00m {\u001b[38;5;124m\"\u001b[39m\u001b[38;5;124mnumpy\u001b[39m\u001b[38;5;124m\"\u001b[39m, \u001b[38;5;124m\"\u001b[39m\u001b[38;5;124mnumpy.array_api\u001b[39m\u001b[38;5;124m\"\u001b[39m}:\n\u001b[0;32m    184\u001b[0m     \u001b[38;5;66;03m# Use NumPy API to support order\u001b[39;00m\n\u001b[1;32m--> 185\u001b[0m     array \u001b[38;5;241m=\u001b[39m \u001b[43mnumpy\u001b[49m\u001b[38;5;241;43m.\u001b[39;49m\u001b[43masarray\u001b[49m\u001b[43m(\u001b[49m\u001b[43marray\u001b[49m\u001b[43m,\u001b[49m\u001b[43m \u001b[49m\u001b[43morder\u001b[49m\u001b[38;5;241;43m=\u001b[39;49m\u001b[43morder\u001b[49m\u001b[43m,\u001b[49m\u001b[43m \u001b[49m\u001b[43mdtype\u001b[49m\u001b[38;5;241;43m=\u001b[39;49m\u001b[43mdtype\u001b[49m\u001b[43m)\u001b[49m\n\u001b[0;32m    186\u001b[0m     \u001b[38;5;28;01mreturn\u001b[39;00m xp\u001b[38;5;241m.\u001b[39masarray(array, copy\u001b[38;5;241m=\u001b[39mcopy)\n\u001b[0;32m    187\u001b[0m \u001b[38;5;28;01melse\u001b[39;00m:\n",
      "\u001b[1;31mValueError\u001b[0m: could not convert string to float: 'Spacious Private Master Suite by the Month.'"
     ]
    }
   ],
   "source": [
    "sorted_df = pd.DataFrame(sorted_data)\n",
    "sorted_array = sorted_df.values\n",
    "sorted_data['name'] = pd.to_numeric(sorted_data['name'], errors='coerce')\n",
    "\n",
    "num_clusters = 2\n",
    "\n",
    "# Perform K-means clustering\n",
    "kmeans = KMeans(n_clusters=num_clusters)\n",
    "cluster_labels = kmeans.fit_predict(sorted_array)\n",
    "\n",
    "# Get the cluster centers and labels\n",
    "cluster_centers = kmeans.cluster_centers_\n",
    "labels = kmeans.labels_\n",
    "\n",
    "# Plot the clustered data\n",
    "plt.figure(figsize=(8, 6))\n",
    "for i in range(num_clusters):\n",
    "    plt.scatter(data[cluster_labels == i][:, 0], data[cluster_labels == i][:, 1], label=f'Cluster {i + 1}')\n",
    "\n",
    "plt.scatter(cluster_centers[:, 0], cluster_centers[:, 1], color='black', marker='X', s=200, label='Cluster Centers')\n",
    "plt.xlabel('Feature 1')\n",
    "plt.ylabel('Feature 2')\n",
    "plt.title('K-means Clustering')\n",
    "plt.legend()\n",
    "plt.show()"
   ]
  },
  {
   "cell_type": "code",
   "execution_count": 30,
   "id": "8ddef2e8-7be8-4f8b-8349-b2175efdae98",
   "metadata": {},
   "outputs": [
    {
     "name": "stdout",
     "output_type": "stream",
     "text": [
      "Average: 85.0\n"
     ]
    }
   ],
   "source": [
    "ph_prices = [45, 63, 80, 100, 102, 120]\n",
    "avg_ph_prices = sum(ph_prices) / len(ph_prices)\n",
    "print(\"Average:\", avg_ph_prices )"
   ]
  },
  {
   "cell_type": "code",
   "execution_count": 40,
   "id": "ec4c590b-fd45-4a5f-9dab-25c672344a79",
   "metadata": {},
   "outputs": [
    {
     "name": "stdout",
     "output_type": "stream",
     "text": [
      "Average: 322.75\n"
     ]
    }
   ],
   "source": [
    "eh_prices = [50, 116, 221, 250, 300, 400, 495, 750]\n",
    "avg_eh_prices = sum(eh_prices) / len(eh_prices)\n",
    "print(\"Average:\", avg_eh_prices )"
   ]
  },
  {
   "cell_type": "code",
   "execution_count": 7,
   "id": "2b53562d-f628-4719-92f7-61d95809bef4",
   "metadata": {},
   "outputs": [],
   "source": [
    "#Remove unwated aspects\n",
    "dataset.drop(['neighbourhood_group', 'license', ], axis = 1, inplace = True)"
   ]
  },
  {
   "cell_type": "code",
   "execution_count": 11,
   "id": "7afa819b-6620-40ec-8884-9ddc88b5c4b7",
   "metadata": {},
   "outputs": [
    {
     "name": "stdout",
     "output_type": "stream",
     "text": [
      "<bound method DataFrame.drop of                        id                                         name  \\\n",
      "0                  329172          Hillside designer home,10 min.dwntn   \n",
      "1                  329306       Urban Homestead, 5 minutes to downtown   \n",
      "2                  331549               One Room with Private Bathroom   \n",
      "3                  333815                Solar Sanctuary - Austin Room   \n",
      "4                  333442                   Rare Secluded 1940s Estate   \n",
      "...                   ...                                          ...   \n",
      "13803  775205162431032890  Downtown Austin Pied de Terre, cute studio!   \n",
      "13804  775306960895705604                   Bedroom W/ Shared Bathroom   \n",
      "13805  775358125921423628                                    Creek Zen   \n",
      "13806  775373038956495432              The Flamingo - 1/1 pink retreat   \n",
      "13807  775388786567166120                  Majic School Bus / Schoolie   \n",
      "\n",
      "         host_id host_name  neighbourhood   latitude  longitude  \\\n",
      "0        1680871     Janet          78746  30.300850 -97.807940   \n",
      "1         880571     Angel          78702  30.272320 -97.725790   \n",
      "2        1690383    Sandra          78725  30.239110 -97.586250   \n",
      "3         372962       Kim          78704  30.253810 -97.752620   \n",
      "4        1698318  Virginia          78703  30.312670 -97.766410   \n",
      "...          ...       ...            ...        ...        ...   \n",
      "13803   95139463  Felicity          78705  30.283945 -97.749639   \n",
      "13804  286256623     Maris          78724  30.310313 -97.652324   \n",
      "13805  490347286      Oleg          78723  30.319973 -97.676901   \n",
      "13806  203862347     First          78751  30.303751 -97.716428   \n",
      "13807   23148741   Stewart          78704  30.258628 -97.784257   \n",
      "\n",
      "             room_type  price  minimum_nights  number_of_reviews last_review  \\\n",
      "0      Entire home/apt    495               3                  7  2022-08-07   \n",
      "1         Private room     63               2                570  2022-11-30   \n",
      "2         Private room    100               2                  0         NaN   \n",
      "3         Private room    102               2                164  2022-10-24   \n",
      "4      Entire home/apt    286               3                163  2022-11-12   \n",
      "...                ...    ...             ...                ...         ...   \n",
      "13803  Entire home/apt     56              30                  0         NaN   \n",
      "13804     Private room     34              30                  0         NaN   \n",
      "13805     Private room     41               1                  1  2022-12-10   \n",
      "13806  Entire home/apt     75               1                  0         NaN   \n",
      "13807  Entire home/apt     76               2                  0         NaN   \n",
      "\n",
      "       reviews_per_month  calculated_host_listings_count  availability_365  \\\n",
      "0                   0.05                               1               363   \n",
      "1                   4.36                               5                55   \n",
      "2                    NaN                               1                 0   \n",
      "3                   1.26                               1                36   \n",
      "4                   1.32                               1               271   \n",
      "...                  ...                             ...               ...   \n",
      "13803                NaN                              15               365   \n",
      "13804                NaN                               4               168   \n",
      "13805               1.00                               1               276   \n",
      "13806                NaN                              13                67   \n",
      "13807                NaN                               2               170   \n",
      "\n",
      "       number_of_reviews_ltm  \n",
      "0                          1  \n",
      "1                         45  \n",
      "2                          0  \n",
      "3                         18  \n",
      "4                         15  \n",
      "...                      ...  \n",
      "13803                      0  \n",
      "13804                      0  \n",
      "13805                      1  \n",
      "13806                      0  \n",
      "13807                      0  \n",
      "\n",
      "[13808 rows x 16 columns]>\n"
     ]
    }
   ],
   "source": [
    "print(dataset.drop)"
   ]
  },
  {
   "cell_type": "code",
   "execution_count": 54,
   "id": "f2109951-97ae-4c43-a59f-410e394399fe",
   "metadata": {},
   "outputs": [
    {
     "ename": "NameError",
     "evalue": "name 'svm_pred' is not defined",
     "output_type": "error",
     "traceback": [
      "\u001b[1;31m---------------------------------------------------------------------------\u001b[0m",
      "\u001b[1;31mNameError\u001b[0m                                 Traceback (most recent call last)",
      "Cell \u001b[1;32mIn[54], line 7\u001b[0m\n\u001b[0;32m      4\u001b[0m predictions_df \u001b[38;5;241m=\u001b[39m pd\u001b[38;5;241m.\u001b[39mDataFrame()\n\u001b[0;32m      6\u001b[0m \u001b[38;5;66;03m# Add the SVM model predictions to the DataFrame\u001b[39;00m\n\u001b[1;32m----> 7\u001b[0m predictions_df[\u001b[38;5;124m'\u001b[39m\u001b[38;5;124mPredicted\u001b[39m\u001b[38;5;124m'\u001b[39m] \u001b[38;5;241m=\u001b[39m \u001b[43msvm_pred\u001b[49m\n\u001b[0;32m      9\u001b[0m \u001b[38;5;66;03m# Add the actual returns to the DataFrame\u001b[39;00m\n\u001b[0;32m     10\u001b[0m predictions_df[\u001b[38;5;124m'\u001b[39m\u001b[38;5;124mroom_type\u001b[39m\u001b[38;5;124m'\u001b[39m] \u001b[38;5;241m=\u001b[39m y_test\n",
      "\u001b[1;31mNameError\u001b[0m: name 'svm_pred' is not defined"
     ]
    }
   ],
   "source": [
    "# Create a new empty predictions DataFrame.\n",
    "\n",
    "# Create a predictions DataFrame\n",
    "predictions_df = pd.DataFrame()\n",
    "\n",
    "# Add the SVM model predictions to the DataFrame\n",
    "predictions_df['Predicted'] = svm_pred\n",
    "\n",
    "# Add the actual returns to the DataFrame\n",
    "predictions_df['room_type'] = y_test\n",
    "\n",
    "# Add the strategy returns to the DataFrame\n",
    "predictions_df['price'] = predictions_df['Predicted'] * predictions_df['Actual Returns']\n",
    "\n",
    "# Review the DataFrame\n",
    "display(predictions_df.head())\n",
    "display(predictions_df.tail())"
   ]
  },
  {
   "cell_type": "code",
   "execution_count": null,
   "id": "7140528f-ef7f-4cc0-8078-fb4293f17175",
   "metadata": {},
   "outputs": [],
   "source": []
  }
 ],
 "metadata": {
  "kernelspec": {
   "display_name": "Python 3 (ipykernel)",
   "language": "python",
   "name": "python3"
  },
  "language_info": {
   "codemirror_mode": {
    "name": "ipython",
    "version": 3
   },
   "file_extension": ".py",
   "mimetype": "text/x-python",
   "name": "python",
   "nbconvert_exporter": "python",
   "pygments_lexer": "ipython3",
   "version": "3.9.16"
  }
 },
 "nbformat": 4,
 "nbformat_minor": 5
}
